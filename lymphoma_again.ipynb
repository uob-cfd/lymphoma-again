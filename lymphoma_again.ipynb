{
 "cells": [
  {
   "cell_type": "markdown",
   "metadata": {},
   "source": [
    "# Back to curing cancer"
   ]
  },
  {
   "cell_type": "code",
   "execution_count": null,
   "metadata": {},
   "outputs": [],
   "source": [
    "# Run this cell to start.\n",
    "import numpy as np\n",
    "\n",
    "# Load the OKpy test library and tests.\n",
    "from client.api.notebook import Notebook\n",
    "ok = Notebook('lymphoma_again.ok')"
   ]
  },
  {
   "cell_type": "markdown",
   "metadata": {},
   "source": [
    "You have already seen this problem.  In this exercise, you have a little coding work, that you have seen before, but most of the work is thinking around the solution you came to, and whether it gives you the answers you want."
   ]
  },
  {
   "cell_type": "markdown",
   "metadata": {},
   "source": [
    "## Background\n",
    "\n",
    "At the time I wrote this, you can find the following on the [Wikipedia page for\n",
    "Burkitt's\n",
    "Lymphoma](https://en.wikipedia.org/wiki/Burkitt%27s_lymphoma#Prognosis).\n",
    "\n",
    "> The overall cure rate for Burkitt's lymphoma in developed countries is\n",
    "> about 90%, but worse in low-income countries. Burkitt's lymphoma is\n",
    "> uncommon in adults, where it has a worse prognosis (Molyneux et al 2012).\n",
    ">\n",
    "> In 2006, treatment with dose-adjusted EPOCH with Rituximab showed\n",
    "> promising initial results in a small series of patients (n=17), with\n",
    "> a 100% response rate, and 100% overall survival and progression-free\n",
    "> survival at 28 months (median follow-up) (Dunleavy et al 2006).\n",
    "\n",
    "* Molyneux *et al* (2012). Burkitt's Lymphoma.  The Lancet, 379(9822),\n",
    "  1234-1244.\n",
    "* Dunleavy *et al* (2006). Novel Treatment of Burkitt Lymphoma with\n",
    "  Dose-Adjusted EPOCH-Rituximab: Preliminary Results Showing Excellent Outcome.\n",
    "  Blood, 108(11), 2736–2736."
   ]
  },
  {
   "cell_type": "markdown",
   "metadata": {},
   "source": [
    "## How likely, by chance\n",
    "\n",
    "How likely is it that the Dunleavy 2006 study results, or better, could have\n",
    "come about by chance?\n",
    "\n",
    "You can use the tools you already know like this:\n",
    "\n",
    "* Your ideal (null) model is that the EPOCH study was, in fact, no more\n",
    "  effective than any other standard therapy.\n",
    "* You are going to simulate 10000 trials, using this model.\n",
    "* In each trial, you will make 17 simulated patients, each with a 90%\n",
    "  chance of being cured.  Then count how many of the 17 patients were cured.\n",
    "* At the end of your simulation, you should have 10000 counts of the number of\n",
    "  simulated patients, out of 17, who were cured.  Store these counts in\n",
    "  a variable `counts`."
   ]
  },
  {
   "cell_type": "code",
   "execution_count": null,
   "metadata": {},
   "outputs": [],
   "source": [
    "#- Simulate 10000 trials of 17 patients\n",
    "counts = ...\n",
    "# Show the first five counts\n",
    "counts[:5]"
   ]
  },
  {
   "cell_type": "code",
   "execution_count": null,
   "metadata": {},
   "outputs": [],
   "source": [
    "# Test you are on the right track.\n",
    "_ = ok.grade('q_01_counts')"
   ]
  },
  {
   "cell_type": "markdown",
   "metadata": {},
   "source": [
    "Calculate the *proportion* `p_100` of `counts` that correspond to 100% response\n",
    "rate (17 out of 17):"
   ]
  },
  {
   "cell_type": "code",
   "execution_count": null,
   "metadata": {},
   "outputs": [],
   "source": [
    "p_100 = ...\n",
    "# Show the value\n",
    "p_100"
   ]
  },
  {
   "cell_type": "code",
   "execution_count": null,
   "metadata": {},
   "outputs": [],
   "source": [
    "# Test you are on the right track.\n",
    "_ = ok.grade('q_02_p_100')"
   ]
  },
  {
   "cell_type": "markdown",
   "metadata": {},
   "source": [
    "## Thinking around\n",
    "\n",
    "Above, you should have the answer to the following question:\n",
    "\n",
    "> How likely is the 100% cure rate in this study if, in fact, the treatment\n",
    "> used has exactly the average cure rate of 90%.\n",
    "\n",
    "I hope you agree that this question is reasonably easy to answer, using the techniques you know.\n",
    "\n",
    "But — is that really the question you are interested in?\n",
    "\n",
    "Here are some other questions, for reflection.\n",
    "\n",
    "You will probably find that these questions are a lot more difficult than they\n",
    "look.\n"
   ]
  },
  {
   "cell_type": "markdown",
   "metadata": {},
   "source": [
    "### Better than average?\n",
    "\n",
    "How convinced are you that the treatment is more effective than average (where\n",
    "the average is 90%)?"
   ]
  },
  {
   "cell_type": "markdown",
   "metadata": {},
   "source": [
    "*Fill in your answer here, replacing this text.*\n"
   ]
  },
  {
   "cell_type": "markdown",
   "metadata": {},
   "source": [
    "### Worse than average?\n",
    "\n",
    "How likely is it, do you think, that the treatment is *less* effective than\n",
    "average?"
   ]
  },
  {
   "cell_type": "markdown",
   "metadata": {},
   "source": [
    "*Fill in your answer here, replacing this text.*\n"
   ]
  },
  {
   "cell_type": "markdown",
   "metadata": {},
   "source": [
    "### Always works?\n",
    "\n",
    "How likely is it that the treatment is *always* effective (100%)?"
   ]
  },
  {
   "cell_type": "markdown",
   "metadata": {},
   "source": [
    "*Fill in your answer here, replacing this text.*\n"
   ]
  },
  {
   "cell_type": "markdown",
   "metadata": {},
   "source": [
    "## Done"
   ]
  },
  {
   "cell_type": "code",
   "execution_count": null,
   "metadata": {},
   "outputs": [],
   "source": [
    "# For your convenience, you can run this cell to run all the tests at once!\n",
    "import os\n",
    "_ = [ok.grade(q[:-3]) for q in os.listdir(\"tests\") if q.startswith('q')]"
   ]
  }
 ],
 "metadata": {
  "jupytext": {
   "split_at_heading": true,
   "text_representation": {
    "extension": ".Rmd",
    "format_name": "rmarkdown",
    "format_version": "1.1",
    "jupytext_version": "1.2.4"
   }
  },
  "kernelspec": {
   "display_name": "Python 3",
   "language": "python",
   "name": "python3"
  }
 },
 "nbformat": 4,
 "nbformat_minor": 4
}
